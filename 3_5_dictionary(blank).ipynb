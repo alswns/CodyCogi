{
  "nbformat": 4,
  "nbformat_minor": 0,
  "metadata": {
    "kernelspec": {
      "name": "python3",
      "display_name": "Python 3",
      "language": "python"
    },
    "language_info": {
      "mimetype": "text/x-python",
      "nbconvert_exporter": "python",
      "name": "python",
      "pygments_lexer": "ipython3",
      "version": "3.5.4",
      "file_extension": ".py",
      "codemirror_mode": {
        "version": 3,
        "name": "ipython"
      }
    },
    "colab": {
      "name": "3-5. dictionary(blank).ipynb",
      "provenance": [],
      "collapsed_sections": [],
      "include_colab_link": true
    }
  },
  "cells": [
    {
      "cell_type": "markdown",
      "metadata": {
        "id": "view-in-github",
        "colab_type": "text"
      },
      "source": [
        "<a href=\"https://colab.research.google.com/github/alswns/CodyCogi/blob/master/3_5_dictionary(blank).ipynb\" target=\"_parent\"><img src=\"https://colab.research.google.com/assets/colab-badge.svg\" alt=\"Open In Colab\"/></a>"
      ]
    },
    {
      "cell_type": "markdown",
      "metadata": {
        "id": "HYFDjEe6XnJw",
        "colab_type": "text"
      },
      "source": [
        "## 5. 딕셔너리(Dictionary)\n",
        "- 딕셔너리는 대응 관계를 나타내는 데이터 구조이다.\n",
        "- 키(Key)와 값(Value)을 한 쌍으로 갖는다.\n",
        "- 키를 통해 값을 얻는다.\n",
        "\n",
        "#### 매핑(mapping)\n",
        "- 키(Key)와 값(Value)을 짝지어 저장하는 자료 구조(Data Structure)이다.\n",
        "- 데이터를 저장할 때 의미있는 식별자(이름)가 필요할 때 사용한다.\n",
        "- 키는 데이터를 식별하고 지정하는 역할을 한다.\n",
        "- 사전(dict), 기본 값 사전(defaultdict) 등이 있다.\n",
        "\n",
        "#### 참고\n",
        "- 해시 맵(hash map)\n",
        "- 해시 테이블(hash table)\n",
        "- 연관 배열(associative array)\n",
        "\n",
        "### 1) 딕셔너리 생성\n",
        "- 딕셔너리는 중괄호({})를 사용하여 키와 값을 묶고 콜론(:)을 사용하여 키와 값을 연결한다.\n",
        "- 각 쌍은 쉽표(,)로 구분한다.\n",
        "- 키는 변경할 수 없는 자료형(immutable)을 사용한다.\n",
        "- 값은 어떠한 자료형도 사용할 수 있다."
      ]
    },
    {
      "cell_type": "markdown",
      "metadata": {
        "id": "Z_yQD2i_XnJx",
        "colab_type": "text"
      },
      "source": [
        "#### 빈 딕셔너리"
      ]
    },
    {
      "cell_type": "code",
      "metadata": {
        "trusted": true,
        "id": "_-kfee1AXnJy",
        "colab_type": "code",
        "colab": {
          "base_uri": "https://localhost:8080/",
          "height": 35
        },
        "outputId": "55b6979e-9132-419f-99d7-f46248517a7b"
      },
      "source": [
        "type({})"
      ],
      "execution_count": null,
      "outputs": [
        {
          "output_type": "execute_result",
          "data": {
            "text/plain": [
              "dict"
            ]
          },
          "metadata": {
            "tags": []
          },
          "execution_count": 1
        }
      ]
    },
    {
      "cell_type": "markdown",
      "metadata": {
        "id": "9qBPcRRRXnJ1",
        "colab_type": "text"
      },
      "source": [
        "#### 여러 가지 자료형을 키로 사용한 딕셔너리"
      ]
    },
    {
      "cell_type": "code",
      "metadata": {
        "trusted": true,
        "id": "yzC3MBV0XnJ2",
        "colab_type": "code",
        "colab": {
          "base_uri": "https://localhost:8080/",
          "height": 35
        },
        "outputId": "d0e71a63-694c-4ee3-ce61-ffd0f962b3e6"
      },
      "source": [
        "print({1004:'value',(1,2,3):'value','key':'value','key':'value'})"
      ],
      "execution_count": null,
      "outputs": [
        {
          "output_type": "stream",
          "text": [
            "{1004: 'value', (1, 2, 3): 'value', 'key': 'value'}\n"
          ],
          "name": "stdout"
        }
      ]
    },
    {
      "cell_type": "markdown",
      "metadata": {
        "id": "YfX0A6MFXnJ4",
        "colab_type": "text"
      },
      "source": [
        "- 키는 1004, (1, 2, 3), 'key'이다.\n",
        "- 정수, 문자열, 튜플 등 변경할 수 없는 자료형(immutable)을 키로 사용한다.\n",
        "- 변경할 수 있는 자료형(mutable)을 담은 튜플은 키로 사용할 수 없다."
      ]
    },
    {
      "cell_type": "markdown",
      "metadata": {
        "id": "Y4smesCaXnJ5",
        "colab_type": "text"
      },
      "source": [
        "### 2) 딕셔너리 연산"
      ]
    },
    {
      "cell_type": "markdown",
      "metadata": {
        "id": "PGrcA94XXnJ5",
        "colab_type": "text"
      },
      "source": [
        "#### 딕셔너리 대입"
      ]
    },
    {
      "cell_type": "code",
      "metadata": {
        "trusted": true,
        "id": "AQw5CCPEXnJ6",
        "colab_type": "code",
        "colab": {
          "base_uri": "https://localhost:8080/",
          "height": 35
        },
        "outputId": "bec38ac3-ac35-44bf-c0d3-bd64844d1022"
      },
      "source": [
        "word_dict={\n",
        "    'cat':'고양이',\n",
        "    'hammer':'망치',\n",
        "    'rainnow':'무지개',\n",
        "    'book':'책',\n",
        "}\n",
        "print(word_dict)"
      ],
      "execution_count": null,
      "outputs": [
        {
          "output_type": "stream",
          "text": [
            "{'cat': '고양이', 'hammer': '망치', 'rainnow': '무지개', 'book': '책'}\n"
          ],
          "name": "stdout"
        }
      ]
    },
    {
      "cell_type": "markdown",
      "metadata": {
        "id": "NcmMDHi9XnJ8",
        "colab_type": "text"
      },
      "source": [
        "#### 딕셔너리 길이(length)"
      ]
    },
    {
      "cell_type": "code",
      "metadata": {
        "trusted": true,
        "id": "AMT3XiIiXnJ9",
        "colab_type": "code",
        "colab": {
          "base_uri": "https://localhost:8080/",
          "height": 35
        },
        "outputId": "6491c6ff-2d2b-4539-be03-d8f28b45fcb7"
      },
      "source": [
        "len({})"
      ],
      "execution_count": null,
      "outputs": [
        {
          "output_type": "execute_result",
          "data": {
            "text/plain": [
              "0"
            ]
          },
          "metadata": {
            "tags": []
          },
          "execution_count": 4
        }
      ]
    },
    {
      "cell_type": "code",
      "metadata": {
        "trusted": true,
        "id": "iyBV2rvEXnJ_",
        "colab_type": "code",
        "colab": {
          "base_uri": "https://localhost:8080/",
          "height": 35
        },
        "outputId": "b50280bb-ae9c-4c70-88f7-171c2b9b72b3"
      },
      "source": [
        "len(word_dict)"
      ],
      "execution_count": null,
      "outputs": [
        {
          "output_type": "execute_result",
          "data": {
            "text/plain": [
              "4"
            ]
          },
          "metadata": {
            "tags": []
          },
          "execution_count": 5
        }
      ]
    },
    {
      "cell_type": "markdown",
      "metadata": {
        "id": "Irsnzq3KXnKC",
        "colab_type": "text"
      },
      "source": [
        "- 딕셔너리에 포함된 요소(키-값 쌍)의 개수는 len() 함수로 구할 수 있다.\n",
        "- 딕셔너리에서 하나의 키-값 쌍은 요소 하나로 취급한다."
      ]
    },
    {
      "cell_type": "markdown",
      "metadata": {
        "id": "5jrcw0EuXnKE",
        "colab_type": "text"
      },
      "source": [
        "#### 멤버 연산자"
      ]
    },
    {
      "cell_type": "code",
      "metadata": {
        "trusted": true,
        "id": "lTi_jbyvXnKF",
        "colab_type": "code",
        "colab": {
          "base_uri": "https://localhost:8080/",
          "height": 71
        },
        "outputId": "f919b87e-4175-4667-a488-a923a1c9f7f6"
      },
      "source": [
        "print('cat' in word_dict) \n",
        "print('dog' not in  word_dict) \n",
        "print('망치' in word_dict) "
      ],
      "execution_count": null,
      "outputs": [
        {
          "output_type": "stream",
          "text": [
            "True\n",
            "True\n",
            "False\n"
          ],
          "name": "stdout"
        }
      ]
    },
    {
      "cell_type": "markdown",
      "metadata": {
        "id": "LEcIaqBQXnKH",
        "colab_type": "text"
      },
      "source": [
        "- 시퀀스에서는 단순히 어떤 요소가 있는지를 검사한다.\n",
        "- 매핑에서는 값이 아니라 키가 있는지 검사한다."
      ]
    },
    {
      "cell_type": "markdown",
      "metadata": {
        "id": "YoBsnaDTXnKH",
        "colab_type": "text"
      },
      "source": [
        "#### 클래스 생성자"
      ]
    },
    {
      "cell_type": "code",
      "metadata": {
        "trusted": true,
        "id": "wqKTPMEoXnKI",
        "colab_type": "code",
        "colab": {
          "base_uri": "https://localhost:8080/",
          "height": 35
        },
        "outputId": "c93817b9-d24e-4e89-aa5a-c68193827c07"
      },
      "source": [
        "student1=dict({'name':'김선린','height':168,'phone':'010-1234-5678','weight':'51.5',})\n",
        "print(student1)"
      ],
      "execution_count": null,
      "outputs": [
        {
          "output_type": "stream",
          "text": [
            "{'name': '김선린', 'height': 168, 'phone': '010-1234-5678', 'weight': '51.5'}\n"
          ],
          "name": "stdout"
        }
      ]
    },
    {
      "cell_type": "code",
      "metadata": {
        "trusted": true,
        "id": "8inZsqOYXnKK",
        "colab_type": "code",
        "colab": {
          "base_uri": "https://localhost:8080/",
          "height": 35
        },
        "outputId": "d4ab0cda-b09b-49fc-f158-c2a27b64e659"
      },
      "source": [
        "student2=dict(name='김선린',height=168,weight=60,phone='010-1234-5678')\n",
        "print(student2)"
      ],
      "execution_count": null,
      "outputs": [
        {
          "output_type": "stream",
          "text": [
            "{'name': '김선린', 'height': 168, 'weight': 60, 'phone': '010-1234-5678'}\n"
          ],
          "name": "stdout"
        }
      ]
    },
    {
      "cell_type": "markdown",
      "metadata": {
        "id": "wgz5CZQKXnKM",
        "colab_type": "text"
      },
      "source": [
        "- 키에 따옴표('', \"\")를 사용하지 않는다.\n",
        "- 키는 문자열로 변환된다.\n",
        "- 값을 할당할 때 '='를 사용한다."
      ]
    },
    {
      "cell_type": "markdown",
      "metadata": {
        "id": "tHntnunIXnKM",
        "colab_type": "text"
      },
      "source": [
        "### 3) 딕셔너리 인덱싱(indexing)"
      ]
    },
    {
      "cell_type": "markdown",
      "metadata": {
        "id": "ibVnK8jtXnKN",
        "colab_type": "text"
      },
      "source": [
        "#### 존재하지 않는 키"
      ]
    },
    {
      "cell_type": "code",
      "metadata": {
        "trusted": true,
        "id": "8JS57DgBXnKN",
        "colab_type": "code",
        "colab": {
          "base_uri": "https://localhost:8080/",
          "height": 172
        },
        "outputId": "8fcb21f1-28e3-4915-b224-daa8407a5745"
      },
      "source": [
        "print(word_dict['dog'])"
      ],
      "execution_count": null,
      "outputs": [
        {
          "output_type": "error",
          "ename": "KeyError",
          "evalue": "ignored",
          "traceback": [
            "\u001b[0;31m---------------------------------------------------------------------------\u001b[0m",
            "\u001b[0;31mKeyError\u001b[0m                                  Traceback (most recent call last)",
            "\u001b[0;32m<ipython-input-9-09e074d17896>\u001b[0m in \u001b[0;36m<module>\u001b[0;34m()\u001b[0m\n\u001b[0;32m----> 1\u001b[0;31m \u001b[0mprint\u001b[0m\u001b[0;34m(\u001b[0m\u001b[0mword_dict\u001b[0m\u001b[0;34m[\u001b[0m\u001b[0;34m'dog'\u001b[0m\u001b[0;34m]\u001b[0m\u001b[0;34m)\u001b[0m\u001b[0;34m\u001b[0m\u001b[0;34m\u001b[0m\u001b[0m\n\u001b[0m",
            "\u001b[0;31mKeyError\u001b[0m: 'dog'"
          ]
        }
      ]
    },
    {
      "cell_type": "markdown",
      "metadata": {
        "id": "WvMmKTXrXnKS",
        "colab_type": "text"
      },
      "source": [
        "#### 존재하는 키"
      ]
    },
    {
      "cell_type": "code",
      "metadata": {
        "trusted": true,
        "id": "nupEmvEHXnKS",
        "colab_type": "code",
        "colab": {
          "base_uri": "https://localhost:8080/",
          "height": 35
        },
        "outputId": "2636d760-bfad-4148-82f3-40864093a965"
      },
      "source": [
        "print(word_dict['cat'])"
      ],
      "execution_count": null,
      "outputs": [
        {
          "output_type": "stream",
          "text": [
            "고양이\n"
          ],
          "name": "stdout"
        }
      ]
    },
    {
      "cell_type": "markdown",
      "metadata": {
        "id": "uB8oSXS3XnKU",
        "colab_type": "text"
      },
      "source": [
        "#### 중복되는 키"
      ]
    },
    {
      "cell_type": "code",
      "metadata": {
        "trusted": true,
        "id": "0cLYtBrbXnKV",
        "colab_type": "code",
        "colab": {
          "base_uri": "https://localhost:8080/",
          "height": 35
        },
        "outputId": "8906c6ee-348f-4768-a95c-d2c073deb3f7"
      },
      "source": [
        "a={'data':'a',\"data\":'b'}\n",
        "print(a)"
      ],
      "execution_count": null,
      "outputs": [
        {
          "output_type": "stream",
          "text": [
            "{'data': 'b'}\n"
          ],
          "name": "stdout"
        }
      ]
    },
    {
      "cell_type": "markdown",
      "metadata": {
        "id": "5lynv23IXnKY",
        "colab_type": "text"
      },
      "source": [
        "- 동일한 키가 존재하면 어떤 키에 해당하는 값인지 알 수 없다.\n",
        "- 따라서 하나를 제외한 나머지는 모두 무시된다.\n",
        "- 어떤 값이 무시될지 알 수 없다."
      ]
    },
    {
      "cell_type": "markdown",
      "metadata": {
        "id": "1Ut1gltAXnKZ",
        "colab_type": "text"
      },
      "source": [
        "#### mutable 객체\n",
        "- 딕셔너리의 요소는 변경할 수 있다."
      ]
    },
    {
      "cell_type": "code",
      "metadata": {
        "trusted": true,
        "id": "rC4vxUEzXnKa",
        "colab_type": "code",
        "colab": {
          "base_uri": "https://localhost:8080/",
          "height": 35
        },
        "outputId": "ad106602-4683-4bc3-d2c4-8f2fa484cd76"
      },
      "source": [
        "word_dict['moon']='달'\n",
        "print(word_dict)"
      ],
      "execution_count": null,
      "outputs": [
        {
          "output_type": "stream",
          "text": [
            "{'cat': '고양이', 'hammer': '망치', 'rainnow': '무지개', 'book': '책', 'moon': '달'}\n"
          ],
          "name": "stdout"
        }
      ]
    },
    {
      "cell_type": "code",
      "metadata": {
        "trusted": true,
        "id": "UO5mwhAmXnKd",
        "colab_type": "code",
        "colab": {
          "base_uri": "https://localhost:8080/",
          "height": 35
        },
        "outputId": "0c30b5cc-23a6-415f-fb3a-dcd5c5d2c526"
      },
      "source": [
        "word_dict['cat']='냐옹이'\n",
        "print(word_dict)"
      ],
      "execution_count": null,
      "outputs": [
        {
          "output_type": "stream",
          "text": [
            "{'cat': '냐옹이', 'hammer': '망치', 'rainnow': '무지개', 'book': '책', 'moon': '달'}\n"
          ],
          "name": "stdout"
        }
      ]
    },
    {
      "cell_type": "code",
      "metadata": {
        "trusted": true,
        "id": "hDyRaOnWXnKg",
        "colab_type": "code",
        "colab": {}
      },
      "source": [
        "del word_dict['hammer']"
      ],
      "execution_count": null,
      "outputs": []
    },
    {
      "cell_type": "markdown",
      "metadata": {
        "id": "F0p5Cv2JXnKk",
        "colab_type": "text"
      },
      "source": [
        "### 4) 딕셔너리 메소드(method)"
      ]
    },
    {
      "cell_type": "markdown",
      "metadata": {
        "id": "NgvoHT4YXnKl",
        "colab_type": "text"
      },
      "source": [
        "#### 요소 검색\n",
        "- get()"
      ]
    },
    {
      "cell_type": "code",
      "metadata": {
        "trusted": true,
        "id": "5tF9HQ_dXnKm",
        "colab_type": "code",
        "colab": {
          "base_uri": "https://localhost:8080/",
          "height": 71
        },
        "outputId": "e02b164e-cfd7-41ce-f0a2-dcd307d75930"
      },
      "source": [
        "print(word_dict.get('cat'))\n",
        "print(word_dict.get('dog','동물'))"
      ],
      "execution_count": null,
      "outputs": [
        {
          "output_type": "stream",
          "text": [
            "None\n",
            "동물\n",
            "ㅁㄴㅇ\n"
          ],
          "name": "stdout"
        }
      ]
    },
    {
      "cell_type": "markdown",
      "metadata": {
        "id": "jOIVr2dOXnKq",
        "colab_type": "text"
      },
      "source": [
        "#### 요소 추가 및 수정\n",
        "- update()"
      ]
    },
    {
      "cell_type": "code",
      "metadata": {
        "trusted": true,
        "id": "qevC-AJyXnKr",
        "colab_type": "code",
        "colab": {
          "base_uri": "https://localhost:8080/",
          "height": 35
        },
        "outputId": "2fb9d52e-e905-4aea-d785-5afa704da56a"
      },
      "source": [
        "update={'star':'별','moon':'달님'}\n",
        "word_dict.update(update)\n",
        "\n",
        "print(word_dict)"
      ],
      "execution_count": null,
      "outputs": [
        {
          "output_type": "stream",
          "text": [
            "{'cat': '냐옹이', 'rainnow': '무지개', 'book': '책', 'moon': '달님', 'star': '별'}\n"
          ],
          "name": "stdout"
        }
      ]
    },
    {
      "cell_type": "markdown",
      "metadata": {
        "id": "EUx7HuuoXnKu",
        "colab_type": "text"
      },
      "source": [
        "#### 요소 삭제\n",
        "- clear()"
      ]
    },
    {
      "cell_type": "code",
      "metadata": {
        "trusted": true,
        "id": "q0nHOE9uXnKv",
        "colab_type": "code",
        "colab": {
          "base_uri": "https://localhost:8080/",
          "height": 172
        },
        "outputId": "09a94d5b-e56d-4ec0-fd37-3d5da7940f0e"
      },
      "source": [
        "word_dict.clear()"
      ],
      "execution_count": null,
      "outputs": [
        {
          "output_type": "error",
          "ename": "NameError",
          "evalue": "ignored",
          "traceback": [
            "\u001b[0;31m---------------------------------------------------------------------------\u001b[0m",
            "\u001b[0;31mNameError\u001b[0m                                 Traceback (most recent call last)",
            "\u001b[0;32m<ipython-input-2-4f877b9c136b>\u001b[0m in \u001b[0;36m<module>\u001b[0;34m()\u001b[0m\n\u001b[0;32m----> 1\u001b[0;31m \u001b[0mword_dict\u001b[0m\u001b[0;34m.\u001b[0m\u001b[0mclear\u001b[0m\u001b[0;34m(\u001b[0m\u001b[0;34m)\u001b[0m\u001b[0;34m\u001b[0m\u001b[0;34m\u001b[0m\u001b[0m\n\u001b[0m",
            "\u001b[0;31mNameError\u001b[0m: name 'word_dict' is not defined"
          ]
        }
      ]
    },
    {
      "cell_type": "markdown",
      "metadata": {
        "id": "0erjV4-wXnKw",
        "colab_type": "text"
      },
      "source": [
        "### 5) 시퀀스와 매핑 변환\n",
        "\n",
        "#### 키 시퀀스와 값 시퀀스로 딕셔너리 정의하기\n",
        "- zip()함수"
      ]
    },
    {
      "cell_type": "code",
      "metadata": {
        "trusted": true,
        "id": "LNXSuNBwXnKx",
        "colab_type": "code",
        "colab": {
          "base_uri": "https://localhost:8080/",
          "height": 35
        },
        "outputId": "5bd190fa-be9e-4bf8-8d0e-0d2ec631581f"
      },
      "source": [
        "price_list=[2500,3000,3000]\n",
        "drink_list=['아메리카노','카페라테','딸기주스']\n",
        "word=dict(zip(drink_list,price_list))\n",
        "print(word)"
      ],
      "execution_count": null,
      "outputs": [
        {
          "output_type": "stream",
          "text": [
            "{'아메리카노': 2500, '카페라테': 3000, '딸기주스': 3000}\n"
          ],
          "name": "stdout"
        }
      ]
    },
    {
      "cell_type": "markdown",
      "metadata": {
        "id": "bPHSSxvwXnKz",
        "colab_type": "text"
      },
      "source": [
        "#### 딕셔너리에서 키 시퀀스와 값 시퀀스 구하기"
      ]
    },
    {
      "cell_type": "code",
      "metadata": {
        "trusted": false,
        "id": "-XlkwYftXnKz",
        "colab_type": "code",
        "colab": {
          "base_uri": "https://localhost:8080/",
          "height": 35
        },
        "outputId": "f69b69f0-e1da-4d05-dbc1-b1bc37c757ba"
      },
      "source": [
        "print(word.keys())"
      ],
      "execution_count": null,
      "outputs": [
        {
          "output_type": "stream",
          "text": [
            "dict_keys(['아메리카노', '카페라테', '딸기주스'])\n"
          ],
          "name": "stdout"
        }
      ]
    },
    {
      "cell_type": "code",
      "metadata": {
        "trusted": true,
        "id": "D_DX9xUQXnK2",
        "colab_type": "code",
        "colab": {
          "base_uri": "https://localhost:8080/",
          "height": 35
        },
        "outputId": "4b47a769-736e-41e3-cf79-f06c9cd5129f"
      },
      "source": [
        "print(word.values())"
      ],
      "execution_count": null,
      "outputs": [
        {
          "output_type": "stream",
          "text": [
            "dict_values([2500, 3000, 3000])\n"
          ],
          "name": "stdout"
        }
      ]
    },
    {
      "cell_type": "code",
      "metadata": {
        "trusted": true,
        "id": "DRndVVsNXnK5",
        "colab_type": "code",
        "colab": {
          "base_uri": "https://localhost:8080/",
          "height": 35
        },
        "outputId": "8a8db375-b740-4b1a-81a8-1874aba13f70"
      },
      "source": [
        "print(word.items())"
      ],
      "execution_count": null,
      "outputs": [
        {
          "output_type": "stream",
          "text": [
            "dict_items([('아메리카노', 2500), ('카페라테', 3000), ('딸기주스', 3000)])\n"
          ],
          "name": "stdout"
        }
      ]
    },
    {
      "cell_type": "code",
      "metadata": {
        "id": "KniyRR_4h9XS",
        "colab_type": "code",
        "colab": {
          "base_uri": "https://localhost:8080/",
          "height": 35
        },
        "outputId": "1e34576d-29b0-4d72-fc4e-e9aae4d1902f"
      },
      "source": [
        "print(list(word.items()))"
      ],
      "execution_count": null,
      "outputs": [
        {
          "output_type": "stream",
          "text": [
            "[('아메리카노', 2500), ('카페라테', 3000), ('딸기주스', 3000)]\n"
          ],
          "name": "stdout"
        }
      ]
    },
    {
      "cell_type": "code",
      "metadata": {
        "id": "N6OfqfkbiCGX",
        "colab_type": "code",
        "colab": {}
      },
      "source": [
        ""
      ],
      "execution_count": null,
      "outputs": []
    }
  ]
}